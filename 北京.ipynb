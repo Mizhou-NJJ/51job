{
 "cells": [
  {
   "cell_type": "code",
   "execution_count": 1,
   "metadata": {},
   "outputs": [],
   "source": [
    "import pandas as pd\n",
    "from pyecharts.charts import Bar,Pie,Page,WordCloud\n",
    "from pyecharts import options as opts\n",
    "\n"
   ]
  },
  {
   "cell_type": "code",
   "execution_count": 2,
   "metadata": {},
   "outputs": [],
   "source": [
    "beijin = pd.read_excel('beijin_min_salary.xlsx')"
   ]
  },
  {
   "cell_type": "code",
   "execution_count": 3,
   "metadata": {},
   "outputs": [
    {
     "data": {
      "text/html": [
       "<div>\n",
       "<style scoped>\n",
       "    .dataframe tbody tr th:only-of-type {\n",
       "        vertical-align: middle;\n",
       "    }\n",
       "\n",
       "    .dataframe tbody tr th {\n",
       "        vertical-align: top;\n",
       "    }\n",
       "\n",
       "    .dataframe thead th {\n",
       "        text-align: right;\n",
       "    }\n",
       "</style>\n",
       "<table border=\"1\" class=\"dataframe\">\n",
       "  <thead>\n",
       "    <tr style=\"text-align: right;\">\n",
       "      <th></th>\n",
       "      <th>Unnamed: 0</th>\n",
       "      <th>coname</th>\n",
       "      <th>jobname</th>\n",
       "      <th>degree</th>\n",
       "      <th>cityname</th>\n",
       "      <th>welfare</th>\n",
       "      <th>salary</th>\n",
       "      <th>cotype</th>\n",
       "    </tr>\n",
       "  </thead>\n",
       "  <tbody>\n",
       "    <tr>\n",
       "      <th>0</th>\n",
       "      <td>0</td>\n",
       "      <td>北京赛融信科技股份有限公司</td>\n",
       "      <td>C#高级开发工程师</td>\n",
       "      <td>本科</td>\n",
       "      <td>北京</td>\n",
       "      <td>五险一金,年终奖金,餐饮补贴</td>\n",
       "      <td>10000.0</td>\n",
       "      <td>民营公司</td>\n",
       "    </tr>\n",
       "    <tr>\n",
       "      <th>1</th>\n",
       "      <td>1</td>\n",
       "      <td>北京恒泰实达科技股份有限公司</td>\n",
       "      <td>C#高级开发工程师</td>\n",
       "      <td>本科</td>\n",
       "      <td>北京</td>\n",
       "      <td>五险一金,定期体检,绩效奖金</td>\n",
       "      <td>15000.0</td>\n",
       "      <td>上市公司</td>\n",
       "    </tr>\n",
       "    <tr>\n",
       "      <th>2</th>\n",
       "      <td>2</td>\n",
       "      <td>达科信息科技（北京）有限公司</td>\n",
       "      <td>C#高级开发工程师</td>\n",
       "      <td>本科</td>\n",
       "      <td>北京</td>\n",
       "      <td>NaN</td>\n",
       "      <td>20000.0</td>\n",
       "      <td>外资（非欧美）</td>\n",
       "    </tr>\n",
       "    <tr>\n",
       "      <th>3</th>\n",
       "      <td>3</td>\n",
       "      <td>北京华航唯实机器人科技股份有限公司</td>\n",
       "      <td>C#高级开发工程师</td>\n",
       "      <td>本科</td>\n",
       "      <td>北京</td>\n",
       "      <td>五险一金,专业培训,年终奖金,工作餐</td>\n",
       "      <td>12000.0</td>\n",
       "      <td>民营公司</td>\n",
       "    </tr>\n",
       "    <tr>\n",
       "      <th>4</th>\n",
       "      <td>4</td>\n",
       "      <td>北京小月智联科技有限公司</td>\n",
       "      <td>高级C#工程师</td>\n",
       "      <td>本科</td>\n",
       "      <td>北京</td>\n",
       "      <td>五险一金,弹性工作,定期体检,股票期权,年终奖金,员工旅游</td>\n",
       "      <td>13000.0</td>\n",
       "      <td>民营公司</td>\n",
       "    </tr>\n",
       "  </tbody>\n",
       "</table>\n",
       "</div>"
      ],
      "text/plain": [
       "   Unnamed: 0             coname    jobname degree cityname  \\\n",
       "0           0      北京赛融信科技股份有限公司  C#高级开发工程师     本科       北京   \n",
       "1           1     北京恒泰实达科技股份有限公司  C#高级开发工程师     本科       北京   \n",
       "2           2     达科信息科技（北京）有限公司  C#高级开发工程师     本科       北京   \n",
       "3           3  北京华航唯实机器人科技股份有限公司  C#高级开发工程师     本科       北京   \n",
       "4           4       北京小月智联科技有限公司    高级C#工程师     本科       北京   \n",
       "\n",
       "                         welfare   salary   cotype  \n",
       "0                 五险一金,年终奖金,餐饮补贴  10000.0     民营公司  \n",
       "1                 五险一金,定期体检,绩效奖金  15000.0     上市公司  \n",
       "2                            NaN  20000.0  外资（非欧美）  \n",
       "3             五险一金,专业培训,年终奖金,工作餐  12000.0     民营公司  \n",
       "4  五险一金,弹性工作,定期体检,股票期权,年终奖金,员工旅游  13000.0     民营公司  "
      ]
     },
     "execution_count": 3,
     "metadata": {},
     "output_type": "execute_result"
    }
   ],
   "source": [
    "beijin[:5]"
   ]
  },
  {
   "cell_type": "code",
   "execution_count": null,
   "metadata": {},
   "outputs": [],
   "source": []
  },
  {
   "cell_type": "code",
   "execution_count": null,
   "metadata": {},
   "outputs": [],
   "source": []
  },
  {
   "cell_type": "code",
   "execution_count": 4,
   "metadata": {},
   "outputs": [],
   "source": [
    "bbdeg = [bdeg for bdeg in beijin['degree'].value_counts().items()]"
   ]
  },
  {
   "cell_type": "code",
   "execution_count": 5,
   "metadata": {},
   "outputs": [
    {
     "data": {
      "text/plain": [
       "[('本科', 9207),\n",
       " ('大专', 2335),\n",
       " ('硕士', 751),\n",
       " ('博士', 28),\n",
       " ('中专', 17),\n",
       " ('高中', 6),\n",
       " ('初中及以下', 3),\n",
       " ('中技', 3)]"
      ]
     },
     "execution_count": 5,
     "metadata": {},
     "output_type": "execute_result"
    }
   ],
   "source": [
    "bbdeg"
   ]
  },
  {
   "cell_type": "code",
   "execution_count": null,
   "metadata": {},
   "outputs": [],
   "source": []
  },
  {
   "cell_type": "code",
   "execution_count": null,
   "metadata": {},
   "outputs": [],
   "source": []
  },
  {
   "cell_type": "markdown",
   "metadata": {},
   "source": [
    "这里是学历饼图"
   ]
  },
  {
   "cell_type": "code",
   "execution_count": 6,
   "metadata": {},
   "outputs": [],
   "source": [
    "x_data = ['本科','大专','硕士','博士','中专','高中','初中及以下','中技']\n",
    "y_data = [9207,2335,751,28,17,6,3,3]"
   ]
  },
  {
   "cell_type": "code",
   "execution_count": 7,
   "metadata": {},
   "outputs": [
    {
     "data": {
      "text/html": [
       "\n",
       "<script>\n",
       "    require.config({\n",
       "        paths: {\n",
       "            'echarts':'https://assets.pyecharts.org/assets/echarts.min'\n",
       "        }\n",
       "    });\n",
       "</script>\n",
       "\n",
       "        <div id=\"c308b934902d418ba9ac71e35b9e018b\" style=\"width:900px; height:500px;\"></div>\n",
       "\n",
       "<script>\n",
       "        require(['echarts'], function(echarts) {\n",
       "                var chart_c308b934902d418ba9ac71e35b9e018b = echarts.init(\n",
       "                    document.getElementById('c308b934902d418ba9ac71e35b9e018b'), 'white', {renderer: 'canvas'});\n",
       "                var option_c308b934902d418ba9ac71e35b9e018b = {\n",
       "    \"animation\": true,\n",
       "    \"animationThreshold\": 2000,\n",
       "    \"animationDuration\": 1000,\n",
       "    \"animationEasing\": \"cubicOut\",\n",
       "    \"animationDelay\": 0,\n",
       "    \"animationDurationUpdate\": 300,\n",
       "    \"animationEasingUpdate\": \"cubicOut\",\n",
       "    \"animationDelayUpdate\": 0,\n",
       "    \"color\": [\n",
       "        \"#c23531\",\n",
       "        \"#2f4554\",\n",
       "        \"#61a0a8\",\n",
       "        \"#d48265\",\n",
       "        \"#749f83\",\n",
       "        \"#ca8622\",\n",
       "        \"#bda29a\",\n",
       "        \"#6e7074\",\n",
       "        \"#546570\",\n",
       "        \"#c4ccd3\",\n",
       "        \"#f05b72\",\n",
       "        \"#ef5b9c\",\n",
       "        \"#f47920\",\n",
       "        \"#905a3d\",\n",
       "        \"#fab27b\",\n",
       "        \"#2a5caa\",\n",
       "        \"#444693\",\n",
       "        \"#726930\",\n",
       "        \"#b2d235\",\n",
       "        \"#6d8346\",\n",
       "        \"#ac6767\",\n",
       "        \"#1d953f\",\n",
       "        \"#6950a1\",\n",
       "        \"#918597\"\n",
       "    ],\n",
       "    \"series\": [\n",
       "        {\n",
       "            \"type\": \"pie\",\n",
       "            \"clockwise\": true,\n",
       "            \"data\": [\n",
       "                {\n",
       "                    \"name\": \"\\u672c\\u79d1\",\n",
       "                    \"value\": 9207\n",
       "                },\n",
       "                {\n",
       "                    \"name\": \"\\u5927\\u4e13\",\n",
       "                    \"value\": 2335\n",
       "                },\n",
       "                {\n",
       "                    \"name\": \"\\u7855\\u58eb\",\n",
       "                    \"value\": 751\n",
       "                },\n",
       "                {\n",
       "                    \"name\": \"\\u535a\\u58eb\",\n",
       "                    \"value\": 28\n",
       "                },\n",
       "                {\n",
       "                    \"name\": \"\\u4e2d\\u4e13\",\n",
       "                    \"value\": 17\n",
       "                },\n",
       "                {\n",
       "                    \"name\": \"\\u9ad8\\u4e2d\",\n",
       "                    \"value\": 6\n",
       "                },\n",
       "                {\n",
       "                    \"name\": \"\\u521d\\u4e2d\\u53ca\\u4ee5\\u4e0b\",\n",
       "                    \"value\": 3\n",
       "                },\n",
       "                {\n",
       "                    \"name\": \"\\u4e2d\\u6280\",\n",
       "                    \"value\": 3\n",
       "                }\n",
       "            ],\n",
       "            \"radius\": [\n",
       "                \"30%\",\n",
       "                \"75%\"\n",
       "            ],\n",
       "            \"center\": [\n",
       "                \"50%\",\n",
       "                \"50%\"\n",
       "            ],\n",
       "            \"roseType\": \"radius\",\n",
       "            \"label\": {\n",
       "                \"show\": true,\n",
       "                \"position\": \"top\",\n",
       "                \"margin\": 8,\n",
       "                \"formatter\": \"{b}: {d}%\"\n",
       "            },\n",
       "            \"rippleEffect\": {\n",
       "                \"show\": true,\n",
       "                \"brushType\": \"stroke\",\n",
       "                \"scale\": 2.5,\n",
       "                \"period\": 4\n",
       "            }\n",
       "        }\n",
       "    ],\n",
       "    \"legend\": [\n",
       "        {\n",
       "            \"data\": [\n",
       "                \"\\u672c\\u79d1\",\n",
       "                \"\\u5927\\u4e13\",\n",
       "                \"\\u7855\\u58eb\",\n",
       "                \"\\u535a\\u58eb\",\n",
       "                \"\\u4e2d\\u4e13\",\n",
       "                \"\\u9ad8\\u4e2d\",\n",
       "                \"\\u521d\\u4e2d\\u53ca\\u4ee5\\u4e0b\",\n",
       "                \"\\u4e2d\\u6280\"\n",
       "            ],\n",
       "            \"selected\": {},\n",
       "            \"show\": true,\n",
       "            \"padding\": 5,\n",
       "            \"itemGap\": 10,\n",
       "            \"itemWidth\": 25,\n",
       "            \"itemHeight\": 14\n",
       "        }\n",
       "    ],\n",
       "    \"tooltip\": {\n",
       "        \"show\": true,\n",
       "        \"trigger\": \"item\",\n",
       "        \"triggerOn\": \"mousemove|click\",\n",
       "        \"axisPointer\": {\n",
       "            \"type\": \"line\"\n",
       "        },\n",
       "        \"showContent\": true,\n",
       "        \"alwaysShowContent\": false,\n",
       "        \"showDelay\": 0,\n",
       "        \"hideDelay\": 100,\n",
       "        \"textStyle\": {\n",
       "            \"fontSize\": 14\n",
       "        },\n",
       "        \"borderWidth\": 0,\n",
       "        \"padding\": 5\n",
       "    },\n",
       "    \"title\": [\n",
       "        {\n",
       "            \"text\": \"\\u5317\\u4eac\\u5e02\\u5b66\\u5386\\u8981\\u6c42\",\n",
       "            \"subtext\": \"degree\",\n",
       "            \"padding\": 5,\n",
       "            \"itemGap\": 10\n",
       "        }\n",
       "    ]\n",
       "};\n",
       "                chart_c308b934902d418ba9ac71e35b9e018b.setOption(option_c308b934902d418ba9ac71e35b9e018b);\n",
       "        });\n",
       "    </script>\n"
      ],
      "text/plain": [
       "<pyecharts.render.display.HTML at 0x2c444434640>"
      ]
     },
     "execution_count": 7,
     "metadata": {},
     "output_type": "execute_result"
    }
   ],
   "source": [
    "\n",
    "pie = (Pie()\n",
    "    .add('', [list(z) for z in zip(x_data, y_data)],\n",
    "      radius=[\"30%\", \"75%\"],\n",
    "      rosetype=\"radius\")\n",
    "    .set_global_opts(title_opts=opts.TitleOpts(title=\"北京市学历要求\", subtitle=\"degree\"))\n",
    "    .set_series_opts(label_opts=opts.LabelOpts(formatter=\"{b}: {d}%\"))\n",
    "   )\n",
    " \n",
    "pie.render_notebook()"
   ]
  },
  {
   "cell_type": "code",
   "execution_count": null,
   "metadata": {},
   "outputs": [],
   "source": []
  },
  {
   "cell_type": "code",
   "execution_count": null,
   "metadata": {},
   "outputs": [],
   "source": []
  },
  {
   "cell_type": "code",
   "execution_count": null,
   "metadata": {},
   "outputs": [],
   "source": []
  },
  {
   "cell_type": "code",
   "execution_count": 8,
   "metadata": {},
   "outputs": [],
   "source": [
    "bjjob = [bjob for bjob in beijin['jobname'].value_counts().items()]"
   ]
  },
  {
   "cell_type": "code",
   "execution_count": null,
   "metadata": {
    "scrolled": false
   },
   "outputs": [],
   "source": []
  },
  {
   "cell_type": "code",
   "execution_count": 9,
   "metadata": {},
   "outputs": [],
   "source": [
    "#以下是词云"
   ]
  },
  {
   "cell_type": "code",
   "execution_count": 10,
   "metadata": {},
   "outputs": [],
   "source": [
    "\n",
    "\n",
    "# def wordcloud_base() -> WordCloud:\n",
    "#     c = (\n",
    "#         WordCloud()\n",
    "#         .add(\"\", bjjob, word_size_range=[20, 100])\n",
    "#         .set_global_opts(title_opts=opts.TitleOpts(title=\"WordCloud-基本示例\"))\n",
    "#        # .render('./测试词云.html')\n",
    "#     )\n",
    "#     return c\n",
    "\n",
    "# wordcloud_base()\n",
    "\n"
   ]
  },
  {
   "cell_type": "code",
   "execution_count": null,
   "metadata": {
    "scrolled": false
   },
   "outputs": [],
   "source": []
  },
  {
   "cell_type": "code",
   "execution_count": null,
   "metadata": {},
   "outputs": [],
   "source": []
  },
  {
   "cell_type": "code",
   "execution_count": 11,
   "metadata": {},
   "outputs": [],
   "source": [
    "# fsalaries = []\n",
    "# for fsal in beijin['salary']:\n",
    "#     fsalaries.append(float(fsal))\n",
    "# bar = Bar() \n",
    "# bar.add_xaxis(beijin['coname'])\n",
    "# bar.add_yaxis(y_axis=fsalaries,series_name=\"工资\")\n",
    "# bar.set_global_opts(title_opts = opts.TitleOpts(title='test', subtitle='cool'),datazoom_opts = opts.DataZoomOpts(is_show=True)\n",
    "                   \n",
    "#                    ) #放弃掉的想法"
   ]
  },
  {
   "cell_type": "code",
   "execution_count": 12,
   "metadata": {},
   "outputs": [],
   "source": [
    "coname = [bjob for bjob in beijin['coname'].value_counts().items()]"
   ]
  },
  {
   "cell_type": "code",
   "execution_count": null,
   "metadata": {},
   "outputs": [],
   "source": []
  },
  {
   "cell_type": "code",
   "execution_count": 13,
   "metadata": {},
   "outputs": [],
   "source": [
    "# def wordcloud_bases() -> WordCloud:\n",
    "#     c = (\n",
    "#         WordCloud()\n",
    "#         .add(\"\", coname, word_size_range=[20, 100])\n",
    "#         .set_global_opts(title_opts=opts.TitleOpts(title=\"北京市招聘公司\"))\n",
    "#         .render('./招聘公司.html')\n",
    "#     )\n",
    "#     return c\n",
    "\n",
    "# wordcloud_bases()\n"
   ]
  },
  {
   "cell_type": "code",
   "execution_count": 14,
   "metadata": {},
   "outputs": [],
   "source": [
    "s_num = beijin['salary'].sum()"
   ]
  },
  {
   "cell_type": "code",
   "execution_count": 15,
   "metadata": {},
   "outputs": [],
   "source": [
    "beijin_ave = s_num / len(beijin['salary'])"
   ]
  },
  {
   "cell_type": "code",
   "execution_count": 16,
   "metadata": {},
   "outputs": [
    {
     "data": {
      "text/plain": [
       "13970.64160635069"
      ]
     },
     "execution_count": 16,
     "metadata": {},
     "output_type": "execute_result"
    }
   ],
   "source": [
    "beijin_ave"
   ]
  },
  {
   "cell_type": "code",
   "execution_count": null,
   "metadata": {},
   "outputs": [],
   "source": []
  },
  {
   "cell_type": "code",
   "execution_count": 17,
   "metadata": {},
   "outputs": [],
   "source": [
    "k = [\"5000元及以下\",\"5000至8000元\",\"8000至1200元\",\"12000至20000元\",\"20000及以上元\"]\n",
    "v = [654,2569,3766,4248,1585]"
   ]
  },
  {
   "cell_type": "code",
   "execution_count": 18,
   "metadata": {},
   "outputs": [],
   "source": [
    "ds = beijin[(beijin.salary>5000) & (beijin.salary<=8000)]"
   ]
  },
  {
   "cell_type": "code",
   "execution_count": 19,
   "metadata": {},
   "outputs": [],
   "source": [
    "ds_s = [degree for degree in ds['degree'].value_counts().items()]"
   ]
  },
  {
   "cell_type": "code",
   "execution_count": 20,
   "metadata": {},
   "outputs": [
    {
     "data": {
      "text/plain": [
       "[('本科', 1521),\n",
       " ('大专', 912),\n",
       " ('硕士', 60),\n",
       " ('中专', 5),\n",
       " ('高中', 3),\n",
       " ('中技', 1),\n",
       " ('博士', 1)]"
      ]
     },
     "execution_count": 20,
     "metadata": {},
     "output_type": "execute_result"
    }
   ],
   "source": [
    "ds_s"
   ]
  },
  {
   "cell_type": "code",
   "execution_count": null,
   "metadata": {},
   "outputs": [],
   "source": []
  },
  {
   "cell_type": "code",
   "execution_count": null,
   "metadata": {},
   "outputs": [],
   "source": []
  },
  {
   "cell_type": "code",
   "execution_count": null,
   "metadata": {},
   "outputs": [],
   "source": []
  },
  {
   "cell_type": "code",
   "execution_count": null,
   "metadata": {},
   "outputs": [],
   "source": []
  },
  {
   "cell_type": "code",
   "execution_count": null,
   "metadata": {},
   "outputs": [],
   "source": []
  },
  {
   "cell_type": "code",
   "execution_count": 21,
   "metadata": {},
   "outputs": [
    {
     "data": {
      "text/plain": [
       "<pyecharts.charts.basic_charts.bar.Bar at 0x2c443fe7970>"
      ]
     },
     "execution_count": 21,
     "metadata": {},
     "output_type": "execute_result"
    }
   ],
   "source": [
    "#北京市薪资分段展示图片\n",
    "bar = Bar()\n",
    "bar.add_xaxis(k)\n",
    "bar.add_yaxis('薪资',v)\n",
    "bar.set_global_opts(title_opts = opts.TitleOpts(title=\"北京市薪资阶段\", subtitle=\"去除无效数据后得到\"))"
   ]
  },
  {
   "cell_type": "code",
   "execution_count": 22,
   "metadata": {},
   "outputs": [
    {
     "data": {
      "text/html": [
       "\n",
       "<script>\n",
       "    require.config({\n",
       "        paths: {\n",
       "            'echarts':'https://assets.pyecharts.org/assets/echarts.min'\n",
       "        }\n",
       "    });\n",
       "</script>\n",
       "\n",
       "        <div id=\"192e11d191e14de5bff5cae3350c568e\" style=\"width:900px; height:500px;\"></div>\n",
       "\n",
       "<script>\n",
       "        require(['echarts'], function(echarts) {\n",
       "                var chart_192e11d191e14de5bff5cae3350c568e = echarts.init(\n",
       "                    document.getElementById('192e11d191e14de5bff5cae3350c568e'), 'white', {renderer: 'canvas'});\n",
       "                var option_192e11d191e14de5bff5cae3350c568e = {\n",
       "    \"animation\": true,\n",
       "    \"animationThreshold\": 2000,\n",
       "    \"animationDuration\": 1000,\n",
       "    \"animationEasing\": \"cubicOut\",\n",
       "    \"animationDelay\": 0,\n",
       "    \"animationDurationUpdate\": 300,\n",
       "    \"animationEasingUpdate\": \"cubicOut\",\n",
       "    \"animationDelayUpdate\": 0,\n",
       "    \"color\": [\n",
       "        \"#c23531\",\n",
       "        \"#2f4554\",\n",
       "        \"#61a0a8\",\n",
       "        \"#d48265\",\n",
       "        \"#749f83\",\n",
       "        \"#ca8622\",\n",
       "        \"#bda29a\",\n",
       "        \"#6e7074\",\n",
       "        \"#546570\",\n",
       "        \"#c4ccd3\",\n",
       "        \"#f05b72\",\n",
       "        \"#ef5b9c\",\n",
       "        \"#f47920\",\n",
       "        \"#905a3d\",\n",
       "        \"#fab27b\",\n",
       "        \"#2a5caa\",\n",
       "        \"#444693\",\n",
       "        \"#726930\",\n",
       "        \"#b2d235\",\n",
       "        \"#6d8346\",\n",
       "        \"#ac6767\",\n",
       "        \"#1d953f\",\n",
       "        \"#6950a1\",\n",
       "        \"#918597\"\n",
       "    ],\n",
       "    \"series\": [\n",
       "        {\n",
       "            \"type\": \"bar\",\n",
       "            \"name\": \"\\u85aa\\u8d44\",\n",
       "            \"legendHoverLink\": true,\n",
       "            \"data\": [\n",
       "                654,\n",
       "                2569,\n",
       "                3766,\n",
       "                4248,\n",
       "                1585\n",
       "            ],\n",
       "            \"showBackground\": false,\n",
       "            \"barMinHeight\": 0,\n",
       "            \"barCategoryGap\": \"20%\",\n",
       "            \"barGap\": \"30%\",\n",
       "            \"large\": false,\n",
       "            \"largeThreshold\": 400,\n",
       "            \"seriesLayoutBy\": \"column\",\n",
       "            \"datasetIndex\": 0,\n",
       "            \"clip\": true,\n",
       "            \"zlevel\": 0,\n",
       "            \"z\": 2,\n",
       "            \"label\": {\n",
       "                \"show\": true,\n",
       "                \"position\": \"top\",\n",
       "                \"margin\": 8\n",
       "            }\n",
       "        }\n",
       "    ],\n",
       "    \"legend\": [\n",
       "        {\n",
       "            \"data\": [\n",
       "                \"\\u85aa\\u8d44\"\n",
       "            ],\n",
       "            \"selected\": {\n",
       "                \"\\u85aa\\u8d44\": true\n",
       "            },\n",
       "            \"show\": true,\n",
       "            \"padding\": 5,\n",
       "            \"itemGap\": 10,\n",
       "            \"itemWidth\": 25,\n",
       "            \"itemHeight\": 14\n",
       "        }\n",
       "    ],\n",
       "    \"tooltip\": {\n",
       "        \"show\": true,\n",
       "        \"trigger\": \"item\",\n",
       "        \"triggerOn\": \"mousemove|click\",\n",
       "        \"axisPointer\": {\n",
       "            \"type\": \"line\"\n",
       "        },\n",
       "        \"showContent\": true,\n",
       "        \"alwaysShowContent\": false,\n",
       "        \"showDelay\": 0,\n",
       "        \"hideDelay\": 100,\n",
       "        \"textStyle\": {\n",
       "            \"fontSize\": 14\n",
       "        },\n",
       "        \"borderWidth\": 0,\n",
       "        \"padding\": 5\n",
       "    },\n",
       "    \"xAxis\": [\n",
       "        {\n",
       "            \"show\": true,\n",
       "            \"scale\": false,\n",
       "            \"nameLocation\": \"end\",\n",
       "            \"nameGap\": 15,\n",
       "            \"gridIndex\": 0,\n",
       "            \"inverse\": false,\n",
       "            \"offset\": 0,\n",
       "            \"splitNumber\": 5,\n",
       "            \"minInterval\": 0,\n",
       "            \"splitLine\": {\n",
       "                \"show\": false,\n",
       "                \"lineStyle\": {\n",
       "                    \"show\": true,\n",
       "                    \"width\": 1,\n",
       "                    \"opacity\": 1,\n",
       "                    \"curveness\": 0,\n",
       "                    \"type\": \"solid\"\n",
       "                }\n",
       "            },\n",
       "            \"data\": [\n",
       "                \"5000\\u5143\\u53ca\\u4ee5\\u4e0b\",\n",
       "                \"5000\\u81f38000\\u5143\",\n",
       "                \"8000\\u81f31200\\u5143\",\n",
       "                \"12000\\u81f320000\\u5143\",\n",
       "                \"20000\\u53ca\\u4ee5\\u4e0a\\u5143\"\n",
       "            ]\n",
       "        }\n",
       "    ],\n",
       "    \"yAxis\": [\n",
       "        {\n",
       "            \"show\": true,\n",
       "            \"scale\": false,\n",
       "            \"nameLocation\": \"end\",\n",
       "            \"nameGap\": 15,\n",
       "            \"gridIndex\": 0,\n",
       "            \"inverse\": false,\n",
       "            \"offset\": 0,\n",
       "            \"splitNumber\": 5,\n",
       "            \"minInterval\": 0,\n",
       "            \"splitLine\": {\n",
       "                \"show\": false,\n",
       "                \"lineStyle\": {\n",
       "                    \"show\": true,\n",
       "                    \"width\": 1,\n",
       "                    \"opacity\": 1,\n",
       "                    \"curveness\": 0,\n",
       "                    \"type\": \"solid\"\n",
       "                }\n",
       "            }\n",
       "        }\n",
       "    ],\n",
       "    \"title\": [\n",
       "        {\n",
       "            \"text\": \"\\u5317\\u4eac\\u5e02\\u85aa\\u8d44\\u9636\\u6bb5\",\n",
       "            \"subtext\": \"\\u53bb\\u9664\\u65e0\\u6548\\u6570\\u636e\\u540e\\u5f97\\u5230\",\n",
       "            \"padding\": 5,\n",
       "            \"itemGap\": 10\n",
       "        }\n",
       "    ]\n",
       "};\n",
       "                chart_192e11d191e14de5bff5cae3350c568e.setOption(option_192e11d191e14de5bff5cae3350c568e);\n",
       "        });\n",
       "    </script>\n"
      ],
      "text/plain": [
       "<pyecharts.render.display.HTML at 0x2c44420efa0>"
      ]
     },
     "execution_count": 22,
     "metadata": {},
     "output_type": "execute_result"
    }
   ],
   "source": [
    "bar.render_notebook()"
   ]
  },
  {
   "cell_type": "code",
   "execution_count": null,
   "metadata": {},
   "outputs": [],
   "source": []
  },
  {
   "cell_type": "code",
   "execution_count": 23,
   "metadata": {},
   "outputs": [],
   "source": [
    "# c = Pie()\n",
    "# c.add(\n",
    "#       series_name='l',\n",
    "#       data_pair=[list(z) for z in zip(x_data, y_data)],\n",
    "#       radius = [\"15%\", \"50%\"],\n",
    "#       center=[\"30%\", \"40%\"]\n",
    "# #       lable_opts=opts.LableOpts(in_show = True),\n",
    "#      )\n",
    "# # c.set_global_opts(legend_opts=opts.Legend(pos_left=\"left\", orient=\"vercical\"))\n",
    "# c.set_global_opts(tooltip_opts = opts.TooltipOpts(trigger=\"item\",formatter=\"{a} <br/>: {c} ({d}%)\"))\n",
    "\n"
   ]
  },
  {
   "cell_type": "code",
   "execution_count": null,
   "metadata": {},
   "outputs": [],
   "source": []
  },
  {
   "cell_type": "code",
   "execution_count": null,
   "metadata": {},
   "outputs": [],
   "source": []
  },
  {
   "cell_type": "code",
   "execution_count": null,
   "metadata": {},
   "outputs": [],
   "source": []
  }
 ],
 "metadata": {
  "kernelspec": {
   "display_name": "Python 3",
   "language": "python",
   "name": "python3"
  },
  "language_info": {
   "codemirror_mode": {
    "name": "ipython",
    "version": 3
   },
   "file_extension": ".py",
   "mimetype": "text/x-python",
   "name": "python",
   "nbconvert_exporter": "python",
   "pygments_lexer": "ipython3",
   "version": "3.8.5"
  }
 },
 "nbformat": 4,
 "nbformat_minor": 4
}
